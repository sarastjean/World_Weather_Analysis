{
 "cells": [
  {
   "cell_type": "code",
   "execution_count": 1,
   "metadata": {},
   "outputs": [],
   "source": [
    "# Import the random module.\n",
    "import random"
   ]
  },
  {
   "cell_type": "code",
   "execution_count": 2,
   "metadata": {
    "scrolled": true
   },
   "outputs": [
    {
     "data": {
      "text/plain": [
       "57"
      ]
     },
     "execution_count": 2,
     "metadata": {},
     "output_type": "execute_result"
    }
   ],
   "source": [
    "random.randint(-90,90)"
   ]
  },
  {
   "cell_type": "code",
   "execution_count": 3,
   "metadata": {},
   "outputs": [
    {
     "data": {
      "text/plain": [
       "0.18150303673353418"
      ]
     },
     "execution_count": 3,
     "metadata": {},
     "output_type": "execute_result"
    }
   ],
   "source": [
    "random.random()"
   ]
  },
  {
   "cell_type": "code",
   "execution_count": 4,
   "metadata": {},
   "outputs": [
    {
     "data": {
      "text/plain": [
       "69.52270062994032"
      ]
     },
     "execution_count": 4,
     "metadata": {},
     "output_type": "execute_result"
    }
   ],
   "source": [
    "random_number = random.randint(-90, 89) + random.random()\n",
    "random_number"
   ]
  },
  {
   "cell_type": "code",
   "execution_count": 7,
   "metadata": {},
   "outputs": [
    {
     "name": "stdout",
     "output_type": "stream",
     "text": [
      "[-40.32061214667449]\n",
      "[-40.32061214667449, 25.391854757825307]\n",
      "[-40.32061214667449, 25.391854757825307, 3.0027829279576794]\n",
      "[-40.32061214667449, 25.391854757825307, 3.0027829279576794, -75.71378987041804]\n",
      "[-40.32061214667449, 25.391854757825307, 3.0027829279576794, -75.71378987041804, 22.602777017867123]\n",
      "[-40.32061214667449, 25.391854757825307, 3.0027829279576794, -75.71378987041804, 22.602777017867123, 34.50294034945208]\n",
      "[-40.32061214667449, 25.391854757825307, 3.0027829279576794, -75.71378987041804, 22.602777017867123, 34.50294034945208, -67.46025932380567]\n",
      "[-40.32061214667449, 25.391854757825307, 3.0027829279576794, -75.71378987041804, 22.602777017867123, 34.50294034945208, -67.46025932380567, 26.692583522160508]\n",
      "[-40.32061214667449, 25.391854757825307, 3.0027829279576794, -75.71378987041804, 22.602777017867123, 34.50294034945208, -67.46025932380567, 26.692583522160508, 46.97419856869772]\n",
      "[-40.32061214667449, 25.391854757825307, 3.0027829279576794, -75.71378987041804, 22.602777017867123, 34.50294034945208, -67.46025932380567, 26.692583522160508, 46.97419856869772, -35.63596449648586]\n"
     ]
    }
   ],
   "source": [
    "x = 1\n",
    "latitudes = []\n",
    "while x < 11:\n",
    "    random_lat = random.randint(-90, 89) + random.random()\n",
    "    latitudes.append(random_lat)\n",
    "    x += 1\n",
    "\n",
    "    print (latitudes)"
   ]
  },
  {
   "cell_type": "code",
   "execution_count": 15,
   "metadata": {},
   "outputs": [
    {
     "data": {
      "text/plain": [
       "58"
      ]
     },
     "execution_count": 15,
     "metadata": {},
     "output_type": "execute_result"
    }
   ],
   "source": [
    "random.randrange(-90, 90)"
   ]
  },
  {
   "cell_type": "code",
   "execution_count": 11,
   "metadata": {},
   "outputs": [
    {
     "data": {
      "text/plain": [
       "-18"
      ]
     },
     "execution_count": 11,
     "metadata": {},
     "output_type": "execute_result"
    }
   ],
   "source": [
    "random.randrange(-90, 90, step =3)"
   ]
  },
  {
   "cell_type": "code",
   "execution_count": 16,
   "metadata": {},
   "outputs": [
    {
     "data": {
      "text/plain": [
       "-68.08985767150071"
      ]
     },
     "execution_count": 16,
     "metadata": {},
     "output_type": "execute_result"
    }
   ],
   "source": [
    "random.uniform(-90,90)"
   ]
  },
  {
   "cell_type": "code",
   "execution_count": 18,
   "metadata": {},
   "outputs": [],
   "source": [
    "# Import the NumPy module.\n",
    "import numpy as np"
   ]
  },
  {
   "cell_type": "code",
   "execution_count": 21,
   "metadata": {},
   "outputs": [
    {
     "data": {
      "text/plain": [
       "-53.140765633506724"
      ]
     },
     "execution_count": 21,
     "metadata": {},
     "output_type": "execute_result"
    }
   ],
   "source": [
    "np.random.uniform(-90.000, 90.000)"
   ]
  },
  {
   "cell_type": "code",
   "execution_count": 23,
   "metadata": {},
   "outputs": [
    {
     "data": {
      "text/plain": [
       "array([-52.50369674,  64.5667568 , -71.90762886,  21.40821641,\n",
       "       -31.77780726, -35.27422347,  41.82558065, -65.29859413,\n",
       "         8.69099289, -69.50116672, -60.52108771,  89.19125611,\n",
       "       -41.48646331, -65.51234978, -68.04441129, -41.4566063 ,\n",
       "       -79.47801521, -68.42200306,  83.97175577,  31.19071101,\n",
       "       -69.59736193,   9.01804897, -40.66098775, -76.37036682,\n",
       "        -7.81191329, -39.1576172 , -74.82909398, -81.29324581,\n",
       "        29.30927282,  42.87835993, -12.6542541 ,  89.02717496,\n",
       "       -17.01696595,  19.99212204, -38.33070943, -53.16127216,\n",
       "        44.07893874,   8.71444532, -18.90353472, -87.37947692,\n",
       "       -65.53216627,  31.32749886, -50.99469828,  48.64398128,\n",
       "       -12.81808864,  18.54413772,  -1.3509769 , -36.13667507,\n",
       "        47.83875817, -21.04671195])"
      ]
     },
     "execution_count": 23,
     "metadata": {},
     "output_type": "execute_result"
    }
   ],
   "source": [
    "np.random.uniform(-90.000, 90.000, size=50)"
   ]
  },
  {
   "cell_type": "code",
   "execution_count": 24,
   "metadata": {},
   "outputs": [],
   "source": [
    "# Import timeit.\n",
    "import timeit"
   ]
  },
  {
   "cell_type": "code",
   "execution_count": 25,
   "metadata": {},
   "outputs": [
    {
     "name": "stdout",
     "output_type": "stream",
     "text": [
      "34 µs ± 774 ns per loop (mean ± std. dev. of 7 runs, 10000 loops each)\n"
     ]
    }
   ],
   "source": [
    "%timeit np.random.uniform(-90.000, 90.000, size=1500)"
   ]
  },
  {
   "cell_type": "code",
   "execution_count": 26,
   "metadata": {},
   "outputs": [
    {
     "name": "stdout",
     "output_type": "stream",
     "text": [
      "4.97 ms ± 175 µs per loop (mean ± std. dev. of 7 runs, 100 loops each)\n"
     ]
    }
   ],
   "source": [
    "def latitudes(size):\n",
    "    latitudes = []\n",
    "    x = 0\n",
    "    while x < (size):\n",
    "        random_lat = random.randint(-90, 90) + random.random()\n",
    "        latitudes.append(random_lat)\n",
    "        x += 1\n",
    "    return latitudes\n",
    "# Call the function with 1500. \n",
    "%timeit latitudes(1500)"
   ]
  }
 ],
 "metadata": {
  "kernelspec": {
   "display_name": "Python 3",
   "language": "python",
   "name": "python3"
  },
  "language_info": {
   "codemirror_mode": {
    "name": "ipython",
    "version": 3
   },
   "file_extension": ".py",
   "mimetype": "text/x-python",
   "name": "python",
   "nbconvert_exporter": "python",
   "pygments_lexer": "ipython3",
   "version": "3.7.7"
  }
 },
 "nbformat": 4,
 "nbformat_minor": 4
}
